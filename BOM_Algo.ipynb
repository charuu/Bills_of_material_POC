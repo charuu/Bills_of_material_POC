{
 "cells": [
  {
   "cell_type": "code",
   "execution_count": 1,
   "id": "c830a708-7855-47fc-9c54-c4339a46b04f",
   "metadata": {},
   "outputs": [
    {
     "name": "stdout",
     "output_type": "stream",
     "text": [
      "Requirement already satisfied: shapely in c:\\users\\charu.jain\\repos\\drawing_compare\\lib\\site-packages (2.0.7)\n",
      "Requirement already satisfied: numpy<3,>=1.14 in c:\\users\\charu.jain\\repos\\drawing_compare\\lib\\site-packages (from shapely) (2.2.4)\n"
     ]
    },
    {
     "name": "stderr",
     "output_type": "stream",
     "text": [
      "\n",
      "[notice] A new release of pip is available: 24.3.1 -> 25.0.1\n",
      "[notice] To update, run: python.exe -m pip install --upgrade pip\n"
     ]
    },
    {
     "name": "stdout",
     "output_type": "stream",
     "text": [
      "Requirement already satisfied: rtree in c:\\users\\charu.jain\\repos\\drawing_compare\\lib\\site-packages (1.4.0)\n",
      "Requirement already satisfied: networkx in c:\\users\\charu.jain\\repos\\drawing_compare\\lib\\site-packages (3.4.2)\n"
     ]
    },
    {
     "name": "stderr",
     "output_type": "stream",
     "text": [
      "\n",
      "[notice] A new release of pip is available: 24.3.1 -> 25.0.1\n",
      "[notice] To update, run: python.exe -m pip install --upgrade pip\n"
     ]
    }
   ],
   "source": [
    "!pip install shapely\n",
    "!pip install rtree networkx\n",
    "%load_ext autoreload\n",
    "%autoreload 2"
   ]
  },
  {
   "cell_type": "markdown",
   "id": "afbb49f6-226f-4143-9882-8dce753d9ae8",
   "metadata": {},
   "source": [
    "Load template  \n",
    "Load main image  \n",
    "Iterate over main image and match template  \n",
    "Iterate matching of template over all angles from 0 ,90,180,270 and create a list of best matched positions  \n",
    "Load all the lines items stored in vector graphics in pdf  \n",
    "for loop over line items:  \n",
    "&emsp;check if line intersects with the matched template box over all angles  \n",
    "&emsp;find triangles in the lines filtered intersecting with the template\n",
    "&emsp;filter lines in triangles to get lines which are exclusively dimension lines\n",
    "&emsp;remove dimension lines and triangles lines from line items\n",
    "for loop over filtered line items:\n",
    "&emsp;find interesections with triangles in the remaining which likely would be extension lines   \n",
    "\n",
    "we should have :  \n",
    "dimension_line=[]  \n",
    "arrow triangles =[]  \n",
    "extension lines =[]  \n",
    "part_lines=[]"
   ]
  },
  {
   "cell_type": "code",
   "execution_count": 2,
   "id": "17bc4c38-ed07-440d-bd79-903caf4c84a4",
   "metadata": {},
   "outputs": [],
   "source": [
    "from shapely.wkt import loads as load_wkt\n",
    "import json\n",
    "from create_structures import *\n",
    "from BOM import *\n",
    "\n",
    "import fitz\n",
    "from shapely.geometry import LineString,Polygon,Point,box\n",
    "import cv2\n",
    "import os\n",
    "from enum import Enum\n",
    "\n",
    "import random\n",
    "import numpy as np\n",
    "from itertools import combinations\n",
    "import pandas as pd\n",
    "\n",
    "doc = fitz.open(\"AUTHORING_APP_116e3300_rev H_drw_PROE.pdf\")\n",
    "page = doc[2]\n",
    "\n",
    "DPI = 300\n",
    "scale = DPI / 72\n",
    "\n",
    "flag = None\n",
    "main_image = cv2.imread(\"image_BAE2.png\")\n",
    "h, w, c = main_image.shape\n",
    "graph_img = np.ones((h, w, c), dtype=np.uint8) * 255\n",
    "graph_img_filename = \"graph_BAE2.png\"\n",
    "coco_json_path = \"image_BAE2_annotations.coco.json\""
   ]
  },
  {
   "cell_type": "code",
   "execution_count": 61,
   "id": "d5f870b8-7c02-44f2-8303-36c60f73ee31",
   "metadata": {},
   "outputs": [
    {
     "name": "stdout",
     "output_type": "stream",
     "text": [
      "Filtered :  34\n",
      "34\n"
     ]
    }
   ],
   "source": [
    "# Load the main image and template\n",
    "dimension_lines, dimension_arrow_triangles, extension_lines, connecting_part_lines, part_arrow_triangles, part_item = find_components_for_BOM(doc,page,main_image,scale)\n",
    "\n",
    "with open(\"dimension_line.txt\", \"w\") as f:\n",
    "    for item in dimension_lines:\n",
    "        f.write(f\"{item.wkt}\\n\")\n",
    "with open(\"dimension_arrow_triangles.txt\", \"w\") as f:\n",
    "    for item in dimension_arrow_triangles:\n",
    "        f.write(f\"{item.wkt}\\n\")\n",
    "with open(\"extension_lines.txt\", \"w\") as f:\n",
    "    for item in extension_lines:\n",
    "        f.write(f\"{item.wkt}\\n\")\n",
    "with open(\"connecting_part_lines.txt\", \"w\") as f:\n",
    "    for item in connecting_part_lines:\n",
    "        f.write(f\"{item.wkt}\\n\")\n",
    "with open(\"part_arrow_triangles.txt\", \"w\") as f:\n",
    "    for item in part_arrow_triangles:\n",
    "        f.write(f\"{item.wkt}\\n\")\n",
    "with open(\"part_items.txt\", \"w\") as f:\n",
    "    for item in part_item:\n",
    "        f.write(f\"{item.wkt}\\n\")\n",
    "    "
   ]
  },
  {
   "cell_type": "code",
   "execution_count": 3,
   "id": "f47cc8d5-0b62-41b6-8690-d7e6e37c74d3",
   "metadata": {},
   "outputs": [],
   "source": [
    "\n",
    "\n",
    "with open(\"dimension_line.txt\", \"r\") as f:\n",
    "    dimension_lines = [load_wkt(line.strip()) for line in f]\n",
    "\n",
    "with open(\"dimension_arrow_triangles.txt\", \"r\") as f:\n",
    "    dimension_arrow_triangles = [load_wkt(line.strip()) for line in f]\n",
    "\n",
    "with open(\"extension_lines.txt\", \"r\") as f:\n",
    "    extension_lines = [load_wkt(line.strip()) for line in f]\n",
    "\n",
    "with open(\"connecting_part_lines.txt\", \"r\") as f:\n",
    "    connecting_part_lines = [load_wkt(line.strip()) for line in f]\n",
    "    \n",
    "with open(\"part_arrow_triangles.txt\", \"r\") as f:\n",
    "    part_arrow_triangles = [load_wkt(line.strip()) for line in f]\n",
    "\n",
    "with open(\"part_items.txt\", \"r\") as f:\n",
    "    part_item = [load_wkt(line.strip()) for line in f]\n",
    "\n",
    "part_items=[]\n",
    "for circle in part_item:\n",
    "    center = circle.centroid\n",
    "    x_center, y_center = center.x , center.y\n",
    "    boundary_point = list(circle.exterior.coords)[0]\n",
    "    radius = center.distance(Point(boundary_point))\n",
    "    x, y, w, h = x_center - radius, y_center - radius, 2 * radius, 2 * radius\n",
    "    text = page.get_text(\"text\",clip=(int(x/scale),int(y/scale),int((x+w)/scale),int((y+h)/scale)))\n",
    "    part_items.append([circle,radius,text])"
   ]
  },
  {
   "cell_type": "code",
   "execution_count": 4,
   "id": "9a2e9f70-71a9-470b-a0dd-eb9e2a53681f",
   "metadata": {},
   "outputs": [
    {
     "data": {
      "text/plain": [
       "True"
      ]
     },
     "execution_count": 4,
     "metadata": {},
     "output_type": "execute_result"
    }
   ],
   "source": [
    "\n",
    "\n",
    "with open(coco_json_path) as f:\n",
    "    data = json.load(f)\n",
    "\n",
    "\n",
    "for ann in data[\"annotations\"]:\n",
    "    x, y, w, h = ann[\"bbox\"]\n",
    "    cv2.putText(graph_img, f\"{int(x),int(y),int(w),int(h)}\", (int(x), int(y) - 20),  cv2.FONT_HERSHEY_SIMPLEX, 1, (0, 0, 255), 2, cv2.LINE_AA)\n",
    "    cv2.rectangle(graph_img, (int(x),int(y)),(int(x + w) , int(y + h)) , (0, 0, 255), 2)\n",
    "\n",
    "cv2.imwrite(graph_img_filename,graph_img)\n"
   ]
  },
  {
   "cell_type": "markdown",
   "id": "7b136e92-ebbd-4db9-b4e9-80515dfcaf67",
   "metadata": {},
   "source": [
    "0. Given:  \n",
    "    dimension_line=[]  \n",
    "    dimension_arrow_triangles =[]  \n",
    "    extension_lines =[]  \n",
    "    part_lines=[]  \n",
    "    part_arrow_triangles =[]  \n",
    "1. Extension line intersecting with arrow polygon intersecting with a line , check alignment left or right or top or bottom DONE\n",
    "2. if the y coordinate or x coordinate is common in intersections --> make that a pair DONE\n",
    "3. move the part circles to the intersecting point\n",
    "4. extract the centre text and record the centre coordinate DONE\n",
    "5. drop the extension lines to the end and find the containing part numbers\n",
    "6. Store the dimensions and part numbers in order in a data structure\n",
    "   - store in DS such that the heirarchy is maintained\n",
    "   - dimenions are associated with each part\n",
    "8. Print the entire DS into a table\n",
    "9. Handle corner cases where there is dimension mentioned in the below format\n",
    "   - line extension line extension line and line with the dimension mentioned in the surrounding area \n",
    "   - extension line line extension line and text containing dimension in the surrounding area\n",
    "10. If multiple drawings present in a group check for the projection format , handle the top view and side view accordingly\n",
    "     "
   ]
  },
  {
   "cell_type": "code",
   "execution_count": 5,
   "id": "83a3bc5e-034c-47b9-af0d-3ac07fc6d26b",
   "metadata": {},
   "outputs": [
    {
     "name": "stdout",
     "output_type": "stream",
     "text": [
      "36\n",
      "32\n"
     ]
    },
    {
     "data": {
      "text/plain": [
       "True"
      ]
     },
     "execution_count": 5,
     "metadata": {},
     "output_type": "execute_result"
    }
   ],
   "source": [
    "\n",
    "print(len(extension_lines))\n",
    "print(len(dimension_lines))\n",
    "\n",
    "dimension_extension_sets = []\n",
    "for intersecting_dimension_line in dimension_lines:\n",
    "    for intersecting_dimension_arrows in dimension_arrow_triangles:\n",
    "        if intersecting_dimension_line.intersects(intersecting_dimension_arrows):\n",
    "            for intersecting_extension_lines in extension_lines:\n",
    "                if intersecting_dimension_arrows.intersects(intersecting_extension_lines):\n",
    "                    color = (random.randint(0, 255), random.randint(0, 255), random.randint(0, 255))\n",
    "\n",
    "                    pts = np.array(intersecting_dimension_line.coords, np.int32).reshape((-1, 1, 2))\n",
    "                    cv2.polylines(graph_img, [pts], isClosed=False, color=color, thickness=12)\n",
    "                    \n",
    "                    pts = np.array(intersecting_extension_lines.coords, np.int32).reshape((-1, 1, 2))\n",
    "                    cv2.polylines(graph_img, [pts], isClosed=False, color=color, thickness=12)\n",
    "                    \n",
    "                    cv2.putText(graph_img, f\"{str(int(intersecting_dimension_line.coords[0][0])),str(int(intersecting_dimension_line.coords[0][1]))}\", (int(intersecting_dimension_line.coords[0][0])-10, int(intersecting_dimension_line.coords[0][1]) - 10),  cv2.FONT_HERSHEY_SIMPLEX, 1, (0, 0, 255), 2, cv2.LINE_AA)\n",
    "                    cv2.putText(graph_img, f\"{str(int(intersecting_dimension_line.coords[-1][0])),str(int(intersecting_dimension_line.coords[-1][1]))}\", (int(intersecting_dimension_line.coords[-1][0])-10, int(intersecting_dimension_line.coords[-1][1]) - 10),  cv2.FONT_HERSHEY_SIMPLEX, 1, (0, 0, 255), 2, cv2.LINE_AA)\n",
    "                    dimension_extension_sets.append([intersecting_dimension_line,intersecting_extension_lines])\n",
    "\n",
    "cv2.imwrite(graph_img_filename,graph_img)\n",
    "\n",
    "#print(len(polygons))"
   ]
  },
  {
   "cell_type": "code",
   "execution_count": 6,
   "id": "0582b322-86c2-4c41-9470-9f6319cc7145",
   "metadata": {},
   "outputs": [
    {
     "name": "stdout",
     "output_type": "stream",
     "text": [
      "([<LINESTRING (3285.309 7194.501, 3972.648 7194.501)>, <LINESTRING (4301.782 7194.501, 5569.561 7194.501)>], [[' tolerance:15\\nL\\n']], ['pattern1'])\n",
      "([<LINESTRING (3285.309 6958.28, 4422.317 6958.28)>, <LINESTRING (4751.451 6958.28, 5888.459 6958.28)>], [[' tolerance:15\\nK\\n']], ['pattern1'])\n",
      "([<LINESTRING (3285.309 6722.06, 4820.145 6722.06)>, <LINESTRING (5149.278 6722.06, 7034.128 6722.06)>], [[' tolerance:15\\nJ\\n']], ['pattern1'])\n",
      "([<LINESTRING (3285.309 6485.839, 5154.601 6485.839)>, <LINESTRING (5483.734 6485.839, 7353.025 6485.839)>], [[' tolerance:15\\nH\\n']], ['pattern1'])\n",
      "([<LINESTRING (3285.309 6249.619, 5556.53 6249.619)>, <LINESTRING (5885.664 6249.619, 8498.695 6249.619)>], [[' tolerance:15\\nF\\n']], ['pattern1'])\n",
      "([<LINESTRING (3285.309 6013.398, 5886.884 6013.398)>, <LINESTRING (6216.018 6013.398, 8817.592 6013.398)>], [[' tolerance:15\\nE\\n']], ['pattern1'])\n",
      "([<LINESTRING (3285.309 5777.178, 6331.477 5777.178)>, <LINESTRING (6660.611 5777.178, 10282.159 5777.178)>], [[' tolerance:15\\nD\\n']], ['pattern1'])\n",
      "([<LINESTRING (1844.05 2709.733, 1697.593 2709.733)>], [['10\\n4\\n']], ['pattern3'])\n",
      "([<LINESTRING (5950.751 4455.454, 7031.656 4455.454)>, <LINESTRING (7398.586 4455.454, 8479.491 4455.454)>], [['125tolerance:10\\n125tolerance:10\\n']], ['pattern1'])\n",
      "([<LINESTRING (8569.255 4455.454, 9891.136 4455.454)>, <LINESTRING (10258.065 4455.454, 11097.995 4455.454)>], [['125tolerance:10\\n125tolerance:10\\n']], ['pattern1'])\n",
      "([<LINESTRING (6075.948 4215.159, 5950.751 4215.159)>], [['2X 15 MAX\\nEND OF BRAIDING\\nAND TWIST\\n \\n']], ['pattern3'])\n",
      "([<LINESTRING (3772.219 2074.433, 3772.219 2142.052)>, <LINESTRING (3772.219 2326.304, 3772.219 2413.409)>], [['16tolerance:5\\n']], ['pattern5'])\n",
      "([<LINESTRING (7153.862 1733.39, 7153.862 2376.82)>, <LINESTRING (7153.862 2721.703, 7153.862 2942.839)>], [['50tolerance:10\\nEND OF BRAIDING \\n', 'OVER BOTH\\nTWISTED PAIRS\\n']], ['pattern4'])\n",
      "([<LINESTRING (7524.047 1733.39, 7524.047 1867.798)>, <LINESTRING (7524.047 2212.68, 7524.047 2700.005)>], [['35 MAX\\nEND OF BRAIDING \\nOVER EACH PAIR OF\\n', 'TWISTED WIRES\\n']], ['pattern4'])\n",
      "([<LINESTRING (7868.332 1507.328, 7868.332 1643.627)>, <LINESTRING (7868.332 1804.256, 7868.332 1871.874)>], [['3\\n2\\n']], ['pattern5'])\n",
      "([<LINESTRING (11714.913 1733.39, 11714.913 2722.209)>, <LINESTRING (11714.913 2892.288, 11714.913 3881.107)>], [['90tolerance:10\\n']], ['pattern4'])\n",
      "([<LINESTRING (3775.388 1733.39, 3775.388 1762.682)>, <LINESTRING (3775.388 1932.76, 3775.388 1962.052)>], [['16tolerance:5\\n']], ['pattern4'])\n"
     ]
    }
   ],
   "source": [
    "\n",
    "y_groups = defaultdict(list)\n",
    "x_groups = defaultdict(list)\n",
    "\n",
    "dimensions_dict_x = []\n",
    "dimensions_dict_y = []\n",
    "\n",
    "class Pattern(Enum):\n",
    "    pattern1 = [\"left_arrow\",\"dimension_line\",\"dimension_line\",\"right_arrow\"] \n",
    "    pattern2 = [\"dimension_line\",\"right_arrow\", \"left_arrow\",\"dimension_line\"]\n",
    "    pattern3 = [\"left_arrow\",\"dimension_line\",\"right_arrow\"]\n",
    "    \n",
    "    pattern4 = [\"top_arrow\",\"dimension_line\",\"dimension_line\",\"bottom_arrow\"]\n",
    "    pattern5 = [\"dimension_line\",\"bottom_arrow\", \"top_arrow\",\"dimension_line\"]\n",
    "    pattern6 = [\"bottom_arrow\",\"dimension_line\",\"top_arrow\"]\n",
    "\n",
    "pattern_map = {\n",
    "                \"pattern1\": {\n",
    "                    \"patterns\": [Pattern.pattern1.value],\n",
    "                    \"offsets\": [(-2, -1), (0, 1)]\n",
    "                },\n",
    "                \"pattern2\": {\n",
    "                    \"patterns\": [Pattern.pattern2.value],\n",
    "                    \"offsets\": [(-2, -1), (0, 1)]\n",
    "                },\n",
    "                \"pattern3\": {\n",
    "                    \"patterns\": [Pattern.pattern3.value],\n",
    "                    \"offsets\": [(-1, 0)]\n",
    "                },\n",
    "                \"pattern4\": {\n",
    "                    \"patterns\": [Pattern.pattern4.value],\n",
    "                    \"offsets\": [(-2, -1), (0, 1)]\n",
    "                },\n",
    "                \"pattern5\": {\n",
    "                    \"patterns\": [Pattern.pattern5.value],\n",
    "                    \"offsets\": [(-2, -1), (0, 1)]\n",
    "                },\n",
    "                \"pattern6\": {\n",
    "                    \"patterns\": [Pattern.pattern6.value],\n",
    "                    \"offsets\": [(-1, 0)]\n",
    "                }\n",
    "            }\n",
    "\n",
    "for dim in dimension_lines:\n",
    "    for x,y in dim.coords:\n",
    "        y_groups[(y)].append(((x), (y)))\n",
    "        x_groups[(x)].append(((x), (y)))\n",
    "\n",
    "\n",
    "dimensions_dict_y = find_patterns(y_groups, dimension_lines, dimension_arrow_triangles, dimensions_dict_y,pattern_map,page)\n",
    "dimensions_dict_x = find_patterns(x_groups, dimension_lines, dimension_arrow_triangles, dimensions_dict_x,pattern_map,page)\n",
    "\n",
    "dimensions_dict_y.extend(dimensions_dict_x)\n",
    "\n",
    "for i,(item) in enumerate(dimensions_dict_y):\n",
    "    print(f\"{item[\"coords\"][0],item[\"value\"],item[\"pattern\"]}\")\n",
    "    \n"
   ]
  },
  {
   "cell_type": "code",
   "execution_count": 7,
   "id": "18783fca-5ca6-449b-985e-9a16d806d3b8",
   "metadata": {},
   "outputs": [
    {
     "data": {
      "text/plain": [
       "True"
      ]
     },
     "execution_count": 7,
     "metadata": {},
     "output_type": "execute_result"
    }
   ],
   "source": [
    "\n",
    "for line in dimension_lines:\n",
    "    # Convert Shapely LineString to a NumPy array for OpenCV\n",
    "    pts = np.array(line.coords, np.int32).reshape((-1, 1, 2))\n",
    "    \n",
    "    # Draw the line on the image\n",
    "    cv2.polylines(graph_img, [pts], isClosed=False, color=(0, 0, 255), thickness=12)\n",
    "    \n",
    "for line in extension_lines:\n",
    "    # Convert Shapely LineString to a NumPy array for OpenCV\n",
    "    pts = np.array(line.coords, np.int32).reshape((-1, 1, 2))\n",
    "    \n",
    "    # Draw the line on the image\n",
    "    cv2.polylines(graph_img, [pts], isClosed=False, color=(255, 0, 255), thickness=12)\n",
    "    \n",
    "cv2.imwrite(graph_img_filename,graph_img)\n"
   ]
  },
  {
   "cell_type": "code",
   "execution_count": 8,
   "id": "a6a091d5-2868-4c09-a1ef-ab24466142f5",
   "metadata": {},
   "outputs": [
    {
     "name": "stdout",
     "output_type": "stream",
     "text": [
      "6\n"
     ]
    },
    {
     "data": {
      "text/plain": [
       "True"
      ]
     },
     "execution_count": 8,
     "metadata": {},
     "output_type": "execute_result"
    }
   ],
   "source": [
    "\n",
    "intersections=[]\n",
    "def find_intersecting_pairs(circles):\n",
    "    \"\"\"\n",
    "    Finds pairs of intersecting circles efficiently.\n",
    "    \n",
    "    :param circles: List of Shapely Polygons (circles as buffered Points)\n",
    "    :return: List of intersecting circle pairs\n",
    "    \"\"\"\n",
    "    intersecting_pairs = []\n",
    "\n",
    "    # Precompute centroid and radius for each circle\n",
    "    circle_data = [\n",
    "        (circle_item.centroid.x, circle_item.centroid.y, radius)\n",
    "        for circle_item,radius,text in circles\n",
    "    ]\n",
    "    \n",
    "    for (x,y, radius1), (x2,y2, radius2) in combinations(circle_data, 2):\n",
    "       # print(radius1,radius2)\n",
    "        buffered1 = Point(x, y).buffer(radius1+10)\n",
    "        buffered2 = Point(x2, y2).buffer(radius2)\n",
    "        color = (random.randint(0, 255), random.randint(0, 255), random.randint(0, 255))\n",
    "        \n",
    "        if buffered1.intersects(buffered2):  # Check intersection\n",
    "           # print(\"intersects\")\n",
    "            intersecting_pairs.append((buffered1, buffered2))\n",
    "            cv2.circle(graph_img, (int(x), int(y)), int(radius1), color, 22)\n",
    "            cv2.circle(graph_img, (int(x2), int(y2)), int(radius2), color, 22)\n",
    "       \n",
    "    return intersecting_pairs\n",
    "\n",
    "# Find intersecting pairs\n",
    "\n",
    "intersections = find_intersecting_pairs(part_items)\n",
    "print(len(intersections))\n",
    "cv2.imwrite(graph_img_filename,graph_img)\n"
   ]
  },
  {
   "cell_type": "markdown",
   "id": "95c9aa52-5608-4085-80a6-8376fc05e024",
   "metadata": {},
   "source": [
    "1. find circle connecting to connecting part line which is connecting to arrow triangle, record this set\n",
    "2. replace the centroid of triangle with the circle along with intersecting circles or any other polygons.\n",
    "3. iteratively check for intersecting parts and move them together\n",
    "   "
   ]
  },
  {
   "cell_type": "code",
   "execution_count": 9,
   "id": "3ff5ed83-f129-49eb-9fd9-4e56dc57ec8f",
   "metadata": {},
   "outputs": [
    {
     "name": "stdout",
     "output_type": "stream",
     "text": [
      "22\n"
     ]
    },
    {
     "data": {
      "text/plain": [
       "True"
      ]
     },
     "execution_count": 9,
     "metadata": {},
     "output_type": "execute_result"
    }
   ],
   "source": [
    "#part_item connecting_part_lines part_arrow_triangles\n",
    "part_groups = defaultdict(list)\n",
    "circle_groups= []\n",
    "part_arrows= defaultdict(list)\n",
    "\n",
    "for circle_item,radius,text in part_items:\n",
    "    for connecting_line in connecting_part_lines:\n",
    "        if Point(circle_item.centroid.x, circle_item.centroid.y).buffer(radius).intersects(connecting_line.buffer(10)):\n",
    "            for arrow in part_arrow_triangles:\n",
    "                if connecting_line.intersects(arrow.buffer(10)):\n",
    "                    part_arrows[(arrow.centroid.x), (arrow.centroid.y)].append(arrow)\n",
    "                    part_groups[(arrow.centroid.x), (arrow.centroid.y)].append(Part(arrow.centroid ,text.split('\\n')[0],text.split('\\n')[1]))\n",
    "                    inter_circle = [(other_circle,other_radius,other_text.strip()) for other_circle,other_radius,other_text in part_items if (text.replace('\\n', '/') != other_text.replace('\\n', '/') and circle_item != other_circle) and circle_item.buffer(radius+10).intersects(other_circle.buffer(other_radius))]\n",
    "\n",
    "                    if inter_circle != []:\n",
    "                        for c,r,t in inter_circle:\n",
    "                            part_groups[(arrow.centroid.x), (arrow.centroid.y)].append(Part(arrow.centroid ,t.split('\\n')[0],t.split('\\n')[1]))\n",
    "\n",
    "                    cv2.circle(graph_img, (int(arrow.centroid.x), int(arrow.centroid.y)), int(radius), (0,0,255), 22)\n",
    "                    circle_groups.append([int(arrow.centroid.x), int(arrow.centroid.y),radius])\n",
    "\n",
    "print(len(part_groups))\n",
    "cv2.imwrite(graph_img_filename,graph_img)\n"
   ]
  },
  {
   "cell_type": "markdown",
   "id": "d976d830-a9a5-42fb-bf73-ff6edd2c176e",
   "metadata": {},
   "source": [
    "Constructing class objects  \n",
    "Given:  \n",
    "dimensions_dict : line coordinates, dimension values associated, pattern enum  \n",
    "part_groups : part coordinates with line numbers and qty  \n",
    "annotations : bounding box  \n",
    "\n",
    "pattern1 = [\"left_arrow\",\"dimension_line\",\"text\",\"dimension_line\",\"right_arrow\"]\n",
    "pattern2 = [\"dimension_line\",\"right_arrow\", \"left_arrow\",\"dimension_line\"]\n",
    "pattern3 = [\"left_arrow\",\"dimension_line\",\"right_arrow\"]\n",
    "\n",
    "pattern4 = [\"top_arrow\",\"dimension_line\",\"text\",\"dimension_line\",\"bottom_arrow\"]\n",
    "pattern5 = [\"dimension_line\",\"bottom_arrow\", \"top_arrow\",\"dimension_line\"]\n",
    "pattern6 = [\"bottom_arrow\",\"dimension_line\",\"top_arrow\"]\n",
    "\n",
    "if pattern == 1 or 2 or 3 :  \n",
    "    horizonal dimension lines = create boundin box from the min x to max x , 0 :h  \n",
    "if pattern == 4 or 5 or 6 :  \n",
    "    vertical dimension lines = create boundin box from the min y to max y , 0 :w  \n",
    "    \n",
    "find part number points within the bounding box   \n",
    "\n",
    "create new BOM object   \n",
    "    1. add dimension lines : coordinates, dimensions extracted from table  \n",
    "    2. add part numbers : coordinates, line item and qty  \n",
    "    3. pattern enum  \n",
    "\n",
    "create a tree for traversal using dfs , insert nodes based on heirarchy of dimensions , identifying the parent and its child nodes\n",
    "\n",
    "    \n"
   ]
  },
  {
   "cell_type": "code",
   "execution_count": 10,
   "id": "8e97ea89-3036-4a60-b24d-aafe7fdedd1d",
   "metadata": {},
   "outputs": [
    {
     "name": "stdout",
     "output_type": "stream",
     "text": [
      "  DIMENSION  G10  G11\n",
      "0         D  520  610\n",
      "1         E  458  548\n",
      "2         F  445  535\n",
      "3         H  396  486\n",
      "4         J  383  473\n",
      "5         K  334  424\n",
      "6         L  321  411\n"
     ]
    }
   ],
   "source": [
    "with open(coco_json_path) as f:\n",
    "    data = json.load(f)\n",
    "    \n",
    "flat_parts = [part for parts in part_groups.values() for part in parts]\n",
    "\n",
    "for ann in data[\"annotations\"]:\n",
    "    if ann[\"category_id\"]==2:\n",
    "        x , y, w, h = ann[\"bbox\"]\n",
    "        table_bbox = x/scale, y/scale, (x + w)/scale, (y + h)/scale\n",
    "        clip = fitz.Rect(x/scale, y/scale, (x + w)/scale, (y + h)/scale)\n",
    "        \n",
    "        tables = page.find_tables(clip=clip)\n",
    "        for table in tables.tables:\n",
    "            first_table = table\n",
    "    \n",
    "            # Extract as list of rows\n",
    "            data = first_table.extract()\n",
    "\n",
    "            # Create DataFrame\n",
    "            df = pd.DataFrame(data[2:], columns=data[1])\n",
    "            \n",
    "            if 'DIMENSION' in df.columns:\n",
    "                dim_dataframe = df\n",
    "                print(dim_dataframe)\n",
    "                break\n",
    "            else:\n",
    "                continue"
   ]
  },
  {
   "cell_type": "code",
   "execution_count": 11,
   "id": "d65ea224-7f23-4d14-ace3-25e928ab8a1a",
   "metadata": {},
   "outputs": [],
   "source": [
    "def extract_tables_from_drawingbox(data, drawing_bbox):\n",
    "    minx, miny, maxx, maxy = drawing_bbox\n",
    "    sub_box = box(minx, miny, maxx, maxy)\n",
    "    \n",
    "    for ann in data[\"annotations\"]:\n",
    "        if ann[\"category_id\"]==2:\n",
    "            \n",
    "            x , y, w, h = ann[\"bbox\"]\n",
    "            table_bbox = box(x, y, (x + w), (y + h))\n",
    "            if sub_box.intersects(table_bbox):\n",
    "                #print(\"herer\")\n",
    "                clip = fitz.Rect(x/scale, y/scale, (x + w)/scale, (y + h)/scale)\n",
    "                \n",
    "                tables = page.find_tables(clip=clip)\n",
    "               # print(\"no of table\",len(tables.tables))\n",
    "                for table in tables.tables:\n",
    "                    # Extract as list of rows\n",
    "                    first_table=table\n",
    "                    data = first_table.extract()\n",
    "                  #  print(data)\n",
    "                    # Create DataFrame\n",
    "                    df = pd.DataFrame(data[2:], columns=data[1])\n",
    "                 #   print(\"Dataframe :\",df)\n",
    "                    if 'DIMENSION' in df.columns:\n",
    "                        dim_dataframe = df\n",
    "                        return dim_dataframe\n",
    "                    else:\n",
    "                        continue\n",
    "                    "
   ]
  },
  {
   "cell_type": "code",
   "execution_count": 20,
   "id": "9250a56f-5a6e-44be-bbf4-3065713886a7",
   "metadata": {},
   "outputs": [
    {
     "name": "stdout",
     "output_type": "stream",
     "text": [
      "Annotated box : (1970, 5557, 12269.17, 9764.220000000001)\n",
      "13\n",
      "\n",
      "\n",
      "  Dimensions:\n",
      "    - Value: 520\n",
      "  Parts:\n",
      "    - Line: 2, Qty: 1\n",
      "    - Line: 7, Qty: 2\n",
      "    - Line: 5, Qty: AR\n",
      "    - Line: 3, Qty: AR\n",
      "\n",
      "\n",
      "      Parent: 520\n",
      "      Dimensions:\n",
      "        - Value: 458\n",
      "\n",
      "\n",
      "          Parent: 458\n",
      "          Dimensions:\n",
      "            - Value: 445\n",
      "          Parts:\n",
      "            - Line: 2, Qty: 1\n",
      "            - Line: 7, Qty: 2\n",
      "\n",
      "\n",
      "              Parent: 445\n",
      "              Dimensions:\n",
      "                - Value: 396\n",
      "\n",
      "\n",
      "                  Parent: 396\n",
      "                  Dimensions:\n",
      "                    - Value: 383\n",
      "                  Parts:\n",
      "                    - Line: 2, Qty: 1\n",
      "                    - Line: 7, Qty: 2\n",
      "\n",
      "\n",
      "                      Parent: 383\n",
      "                      Dimensions:\n",
      "                        - Value: 334\n",
      "\n",
      "\n",
      "                          Parent: 334\n",
      "                          Dimensions:\n",
      "                            - Value: 321\n",
      "                          Parts:\n",
      "                            - Line: 4, Qty: 8\n",
      "\n",
      "\n",
      "  Dimensions:\n",
      "    - Value: None\n",
      "  Neighbour:\n",
      "    - Value: 520\n",
      "  Parts:\n",
      "    - Line: 2, Qty: 1\n",
      "\n",
      "\n",
      "  Dimensions:\n",
      "    - Value: None\n",
      "  Neighbour:\n",
      "    - Value: 520\n",
      "  Parts:\n",
      "    - Line: 7, Qty: 2\n",
      "\n",
      "\n",
      "  Dimensions:\n",
      "    - Value: None\n",
      "  Neighbour:\n",
      "    - Value: 321\n",
      "  Parts:\n",
      "    - Line: 1, Qty: 1\n",
      "\n",
      "\n",
      "  Dimensions:\n",
      "    - Value: None\n",
      "  Neighbour:\n",
      "    - Value: 321\n",
      "  Parts:\n",
      "    - Line: 6, Qty: 2\n",
      "Annotated box : (5024, 778, 12684.630000000001, 5498.32)\n",
      "10\n",
      "\n",
      "\n",
      "  Dimensions:\n",
      "    - Value: ['125tolerance:10\\n125tolerance:10\\n']\n",
      "  Parts:\n",
      "    - Line: 5, Qty: AR\n",
      "\n",
      "\n",
      "      Parent: ['125tolerance:10\\n125tolerance:10\\n']\n",
      "      Dimensions:\n",
      "        - Value: ['2X 15 MAX\\nEND OF BRAIDING\\nAND TWIST\\n \\n']\n",
      "      Parts:\n",
      "        - Line: 6, Qty: AR\n",
      "\n",
      "\n",
      "  Dimensions:\n",
      "    - Value: ['125tolerance:10\\n125tolerance:10\\n']\n",
      "  Parts:\n",
      "    - Line: 5, Qty: AR\n",
      "    - Line: 6, Qty: AR\n",
      "\n",
      "\n",
      "  Dimensions:\n",
      "    - Value: ['3\\n2\\n']\n",
      "\n",
      "\n",
      "  Dimensions:\n",
      "    - Value: ['90tolerance:10\\n']\n",
      "\n",
      "\n",
      "      Parent: ['90tolerance:10\\n']\n",
      "      Dimensions:\n",
      "        - Value: ['50tolerance:10\\nEND OF BRAIDING \\n', 'OVER BOTH\\nTWISTED PAIRS\\n']\n",
      "      Parts:\n",
      "        - Line: 7, Qty: 4\n",
      "\n",
      "\n",
      "          Parent: ['50tolerance:10\\nEND OF BRAIDING \\n', 'OVER BOTH\\nTWISTED PAIRS\\n']\n",
      "          Dimensions:\n",
      "            - Value: ['35 MAX\\nEND OF BRAIDING \\nOVER EACH PAIR OF\\n', 'TWISTED WIRES\\n']\n",
      "          Parts:\n",
      "            - Line: 4, Qty: AR\n",
      "            - Line: 5, Qty: AR\n",
      "            - Line: 4, Qty: AR\n",
      "\n",
      "\n",
      "  Dimensions:\n",
      "    - Value: None\n",
      "  Neighbour:\n",
      "    - Value: ['2X 15 MAX\\nEND OF BRAIDING\\nAND TWIST\\n \\n']\n",
      "  Parts:\n",
      "    - Line: 1, Qty: 3\n",
      "\n",
      "\n",
      "  Dimensions:\n",
      "    - Value: None\n",
      "  Neighbour:\n",
      "    - Value: ['2X 15 MAX\\nEND OF BRAIDING\\nAND TWIST\\n \\n']\n",
      "  Parts:\n",
      "    - Line: 2, Qty: 6\n",
      "Annotated box : (2769, 554, 5050.05, 5366.61)\n",
      "3\n",
      "\n",
      "\n",
      "  Dimensions:\n",
      "    - Value: ['16tolerance:5\\n']\n",
      "  Parts:\n",
      "    - Line: 3, Qty: 2\n",
      "\n",
      "\n",
      "  Dimensions:\n",
      "    - Value: ['16tolerance:5\\n']\n",
      "  Parts:\n",
      "    - Line: 6, Qty: AR\n",
      "    - Line: 6, Qty: AR\n",
      "Annotated box : (593, 936, 2702.64, 5366.24)\n",
      "3\n",
      "\n",
      "\n",
      "  Dimensions:\n",
      "    - Value: ['10\\n4\\n']\n",
      "\n",
      "\n",
      "  Dimensions:\n",
      "    - Value: None\n",
      "  Neighbour:\n",
      "    - Value: ['10\\n4\\n']\n",
      "  Parts:\n",
      "    - Line: 1, Qty: 1\n",
      "\n",
      "\n",
      "  Dimensions:\n",
      "    - Value: None\n",
      "  Neighbour:\n",
      "    - Value: ['10\\n4\\n']\n",
      "  Parts:\n",
      "    - Line: 6, Qty: 2\n",
      "\n",
      "\n",
      "  Dimensions:\n",
      "    - Value: None\n",
      "  Neighbour:\n",
      "    - Value: ['10\\n4\\n']\n",
      "  Parts:\n",
      "    - Line: 3, Qty: AR\n"
     ]
    },
    {
     "data": {
      "text/plain": [
       "True"
      ]
     },
     "execution_count": 20,
     "metadata": {},
     "output_type": "execute_result"
    }
   ],
   "source": [
    "\n",
    "with open(coco_json_path) as f:\n",
    "    data = json.load(f)\n",
    "    \n",
    "flat_parts = [part for parts in part_groups.values() for part in parts]\n",
    "group ='G10'\n",
    "dim_dataframe = None\n",
    "\n",
    "\n",
    "for ann in data[\"annotations\"]:              \n",
    "    if ann[\"category_id\"]==1:\n",
    "        parts_in_drawing=[] \n",
    "        bom_nodes_y =[]\n",
    "        diff=[]\n",
    "        x , y, w, h = ann[\"bbox\"]\n",
    "        drawing_bbox = x, y, x + w, y + h\n",
    "        dim_dataframe = extract_tables_from_drawingbox(data, drawing_bbox)\n",
    "        print(\"Annotated box :\", drawing_bbox)\n",
    "        \n",
    "        for p in flat_parts:\n",
    "            if is_point_in_bbox(p.coords, drawing_bbox):\n",
    "                #print(p.line,p.quantity)\n",
    "                parts_in_drawing.append(p)\n",
    "\n",
    "        print(len(parts_in_drawing))\n",
    "       # print(dim_dataframe)\n",
    "        bom_nodes_y, diff = construct_bom_nodes(dimensions_dict_y, parts_in_drawing, part_arrows, drawing_bbox, graph_img,page,dim_dataframe,group)\n",
    "\n",
    "        bom_tree_y = build_bom_tree(bom_nodes_y)\n",
    "        diff_tree_y = build_bom_tree(diff)\n",
    "        \n",
    "        for root in bom_tree_y:\n",
    "            print_bom_tree(root)\n",
    "\n",
    "        for root in diff_tree_y:\n",
    "            print_bom_tree(root)\n",
    "\n",
    "cv2.imwrite(graph_img_filename,graph_img)\n"
   ]
  },
  {
   "cell_type": "markdown",
   "id": "dcfac3b8-8b7e-4cac-a722-0b0bade49564",
   "metadata": {},
   "source": [
    "1. Add the part numbers in the surrounding region to the nearest dimension line, if there are multiple dim lines, then add parent node to the largest or combined dimension lines.\n",
    "2. Find the dimension values from the nearest text blocks DONE\n",
    "4. Extract dimension values from the tables in the drawing box region\n",
    "5. GMM on the part number centroids to mask them from being overlapped from horizontal and vertical dimension lines, if they occur in same drawing DONE\n",
    "6. update the pattern1 text to point to the nearest centroid in the text blocks extracted DONE\n",
    "7. Dimension value lookup to write the value and tolerances DONE\n",
    "   "
   ]
  },
  {
   "cell_type": "code",
   "execution_count": 70,
   "id": "5ca4afd8-eb39-4b92-a898-2e513c35f986",
   "metadata": {},
   "outputs": [
    {
     "name": "stdout",
     "output_type": "stream",
     "text": [
      "Annotated box : (1970, 5557, 12269.17, 9764.220000000001)\n",
      "Annotated box : (5024, 778, 12684.630000000001, 5498.32)\n",
      "Annotated box : (2769, 554, 5050.05, 5366.61)\n",
      "Annotated box : (593, 936, 2702.64, 5366.24)\n"
     ]
    },
    {
     "data": {
      "image/png": "[encoded data removed]",
      "text/plain": [
       "<Figure size 640x480 with 1 Axes>"
      ]
     },
     "metadata": {},
     "output_type": "display_data"
    }
   ],
   "source": [
    "import cv2\n",
    "import numpy as np\n",
    "from sklearn.mixture import GaussianMixture\n",
    "import matplotlib.pyplot as plt\n",
    "\n",
    "\n",
    "for ann in data[\"annotations\"]:\n",
    "    if ann[\"category_id\"]==1:\n",
    "        parts_in_drawing=[] \n",
    "        drawing_bbox = ann[\"bbox\"]\n",
    "        x , y, w, h = drawing_bbox\n",
    "        drawing_bbox = x, y, x + w, y + h\n",
    "        \n",
    "        print(\"Annotated box :\",drawing_bbox)\n",
    "        \n",
    "        features = np.array([[x1] for (x1,y1,radius) in circle_groups if x <= x1 <= x+w and y <= y1 <= y+h])\n",
    "        clusters = np.array([[x1,y1] for (x1,y1,radius) in circle_groups if x <= x1 <= x+w and y <= y1 <= y+h])\n",
    "        n_components = 2  # You can tune this\n",
    "        gmm = GaussianMixture(n_components=n_components, covariance_type='spherical', random_state=42)\n",
    "        labels = gmm.fit_predict(features)\n",
    "        #output_img = cv2.cvtColor(graph_img, cv2.COLOR_GRAY2BGR)\n",
    "        colors = [(255, 0, 0), (0, 255, 0), (0, 0, 255), (255,255,0)]\n",
    "        \n",
    "        for (label, (x,y)) in zip(labels, clusters):\n",
    "            cv2.circle(graph_img, (int(x), int(y)), int(100), colors[label % len(colors)], 22)\n",
    "        \n",
    "# Show output\n",
    "plt.imshow(cv2.cvtColor(graph_img, cv2.COLOR_BGR2RGB))\n",
    "plt.axis('off')\n",
    "plt.title(\"Hough Circles Clustered by GMM\")\n",
    "plt.show()\n",
    "\n"
   ]
  },
  {
   "cell_type": "code",
   "execution_count": 110,
   "id": "2c10c713-e892-4ffc-a983-1ead1a9b5a94",
   "metadata": {},
   "outputs": [
    {
     "name": "stdout",
     "output_type": "stream",
     "text": [
      "Annotated box : (1970, 5557, 12269.17, 9764.220000000001)\n",
      "8\n",
      "[0.99995626 0.0093535 ]\n",
      "[-0.0093535   0.99995626]\n"
     ]
    },
    {
     "data": {
      "image/png": "[encoded data removed]",
      "text/plain": [
       "<Figure size 600x600 with 1 Axes>"
      ]
     },
     "metadata": {},
     "output_type": "display_data"
    },
    {
     "name": "stdout",
     "output_type": "stream",
     "text": [
      "Annotated box : (5024, 778, 12684.630000000001, 5498.32)\n",
      "9\n",
      "[ 0.98803825 -0.15420897]\n",
      "[0.15420897 0.98803825]\n"
     ]
    },
    {
     "data": {
      "image/png": "[encoded data removed]",
      "text/plain": [
       "<Figure size 600x600 with 1 Axes>"
      ]
     },
     "metadata": {},
     "output_type": "display_data"
    },
    {
     "name": "stdout",
     "output_type": "stream",
     "text": [
      "Annotated box : (2769, 554, 5050.05, 5366.61)\n",
      "3\n",
      "[0.21448066 0.97672824]\n",
      "[ 0.97672824 -0.21448066]\n"
     ]
    },
    {
     "data": {
      "image/png": "[encoded data removed]",
      "text/plain": [
       "<Figure size 600x600 with 1 Axes>"
      ]
     },
     "metadata": {},
     "output_type": "display_data"
    },
    {
     "name": "stdout",
     "output_type": "stream",
     "text": [
      "Annotated box : (593, 936, 2702.64, 5366.24)\n",
      "2\n",
      "[0.94467366 0.32801169]\n",
      "[-0.32801169  0.94467366]\n"
     ]
    },
    {
     "data": {
      "image/png": "[encoded data removed]",
      "text/plain": [
       "<Figure size 600x600 with 1 Axes>"
      ]
     },
     "metadata": {},
     "output_type": "display_data"
    }
   ],
   "source": [
    "import numpy as np\n",
    "import matplotlib.pyplot as plt\n",
    "from sklearn.decomposition import PCA\n",
    "\n",
    "for ann in data[\"annotations\"]:\n",
    "    if ann[\"category_id\"]==1:\n",
    "        parts_in_drawing=[] \n",
    "        drawing_bbox = ann[\"bbox\"]\n",
    "        x , y, w, h = drawing_bbox\n",
    "        drawing_bbox = x, y, x + w, y + h\n",
    "        \n",
    "        print(\"Annotated box :\",drawing_bbox)\n",
    "        clusters = np.array([[x1,y1] for (x1,y1,radius) in circle_groups if x <= x1 <= x+w and y <= y1 <= y+h])\n",
    "        print(len(clusters))\n",
    "        pca = PCA(n_components=2)\n",
    "        pca.fit(clusters)\n",
    "        \n",
    "        # Extract mean and principal components\n",
    "        mean = pca.mean_\n",
    "        direction = pca.components_[0]  # First principal component (line direction)\n",
    "        print(direction)\n",
    "        direction_2 = pca.components_[1]\n",
    "        print(direction_2)\n",
    "        # Create line along the principal component\n",
    "        t = np.linspace(-2, 2, 100)\n",
    "        line = mean + t[:, None] * direction  # Parametric form of the line\n",
    "        line_2 = mean + t[:, None] * direction_2 \n",
    "\n",
    "        # Plot original points and PCA line\n",
    "        plt.figure(figsize=(6, 6))\n",
    "        plt.scatter(clusters[:, 0], clusters[:, 1], label='Original Points')\n",
    "        plt.plot(line[:, 0], line[:, 1], color='red', label='PCA Line')\n",
    "        plt.quiver(*mean, *direction, scale=3, color='red', angles='xy', label='Direction Vector')\n",
    "\n",
    "        plt.plot(line_2[:, 0], line_2[:, 1], color='blue', label='PCA Line')\n",
    "        plt.quiver(*mean, *direction_2, scale=3, color='blue', angles='xy', label='Direction Vector')\n",
    "        \n",
    "        plt.axis('equal')\n",
    "        plt.grid(True)\n",
    "        plt.legend()\n",
    "        plt.title('PCA Line Fit for 2D Points')\n",
    "        plt.show()"
   ]
  },
  {
   "cell_type": "code",
   "execution_count": 212,
   "id": "51faf79f-2afe-446a-88fe-e15001683efc",
   "metadata": {},
   "outputs": [
    {
     "name": "stdout",
     "output_type": "stream",
     "text": [
      "Annotated box : (1970, 5557, 12269.17, 9764.220000000001)\n",
      "-1\n",
      "Horizontally aligned groups:\n",
      "-1\n",
      "Horizontally aligned groups:\n",
      "-1\n",
      "Horizontally aligned groups:\n",
      "0\n",
      "Horizontally aligned groups:\n",
      "-1\n",
      "Horizontally aligned groups:\n",
      "-1\n",
      "Horizontally aligned groups:\n",
      "0\n",
      "Horizontally aligned groups:\n",
      "-1\n",
      "Horizontally aligned groups:\n",
      "Annotated box : (5024, 778, 12684.630000000001, 5498.32)\n",
      "-1\n",
      "Horizontally aligned groups:\n",
      "0\n",
      "Horizontally aligned groups:\n",
      "-1\n",
      "Horizontally aligned groups:\n",
      "0\n",
      "Horizontally aligned groups:\n",
      "-1\n",
      "Horizontally aligned groups:\n",
      "-1\n",
      "Horizontally aligned groups:\n",
      "0\n",
      "Horizontally aligned groups:\n",
      "0\n",
      "Horizontally aligned groups:\n",
      "-1\n",
      "Horizontally aligned groups:\n",
      "Annotated box : (2769, 554, 5050.05, 5366.61)\n",
      "0\n",
      "Horizontally aligned groups:\n",
      "0\n",
      "Horizontally aligned groups:\n",
      "-1\n",
      "Horizontally aligned groups:\n",
      "Annotated box : (593, 936, 2702.64, 5366.24)\n",
      "-1\n",
      "Horizontally aligned groups:\n",
      "-1\n",
      "Horizontally aligned groups:\n"
     ]
    },
    {
     "data": {
      "text/plain": [
       "True"
      ]
     },
     "execution_count": 212,
     "metadata": {},
     "output_type": "execute_result"
    }
   ],
   "source": [
    "import cv2\n",
    "import numpy as np\n",
    "from sklearn.cluster import DBSCAN\n",
    "import matplotlib.pyplot as plt\n",
    "from sklearn.cluster import OPTICS\n",
    "\n",
    "from sklearn.decomposition import PCA\n",
    "\n",
    "\n",
    "for ann in data[\"annotations\"]:\n",
    "    if ann[\"category_id\"]==1:\n",
    "        parts_in_drawing=[] \n",
    "        drawing_bbox = ann[\"bbox\"]\n",
    "        x , y, w, h = drawing_bbox\n",
    "        drawing_bbox = x, y, x + w, y + h\n",
    "        \n",
    "        print(\"Annotated box :\",drawing_bbox)\n",
    "        \n",
    "        features = np.array([[x1,y1] for (x1,y1,radius) in circle_groups if x <= x1 <= x+w and y <= y1 <= y+h])\n",
    "        eps = 150  # max y-difference to consider aligned\n",
    "\n",
    "        # Only use y-coordinate for clustering (reshape to 2D)\n",
    "      #  X_reduced = PCA(n_components=2).fit_transform(features)\n",
    "        horizontal_labels = DBSCAN(eps=eps, min_samples=2,metric='euclidean').fit_predict(features[:,0].reshape(-1,1))\n",
    "\n",
    "        # Group horizontal alignments\n",
    "        horizontals = {}\n",
    "        \n",
    "        for i, label in enumerate(horizontal_labels):\n",
    "            print(label)\n",
    "            if label == -1:\n",
    "                cv2.circle(graph_img, (int(features[i][0]), int(features[i][1])), int(150), (255,0,0), 42)\n",
    "            elif label == 1:\n",
    "                cv2.circle(graph_img, (int(features[i][0]), int(features[i][1])), int(150), (0,0,255), 42)\n",
    "            elif label==0:\n",
    "                cv2.circle(graph_img, (int(features[i][0]), int(features[i][1])), int(150), (0,255,0), 42)\n",
    "                \n",
    "            horizontals.setdefault(label, []).append(tuple(features[i]))\n",
    "            print(\"Horizontally aligned groups:\")\n",
    "           # for group in horizontals.values():\n",
    "             #   print(group)\n",
    "                \n",
    "cv2.imwrite(graph_img_filename,graph_img)\n",
    "\n"
   ]
  },
  {
   "cell_type": "code",
   "execution_count": null,
   "id": "c3dc55f5-0b2f-4690-bd10-b32acd9aa59a",
   "metadata": {},
   "outputs": [],
   "source": []
  }
 ],
 "metadata": {
  "kernelspec": {
   "display_name": "Python 3 (ipykernel)",
   "language": "python",
   "name": "python3"
  },
  "language_info": {
   "codemirror_mode": {
    "name": "ipython",
    "version": 3
   },
   "file_extension": ".py",
   "mimetype": "text/x-python",
   "name": "python",
   "nbconvert_exporter": "python",
   "pygments_lexer": "ipython3",
   "version": "3.13.2"
  }
 },
 "nbformat": 4,
 "nbformat_minor": 5
}
